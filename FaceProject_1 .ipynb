{
 "cells": [
  {
   "cell_type": "markdown",
   "id": "fbbd4011",
   "metadata": {},
   "source": [
    "# Object Detection With Webcam"
   ]
  },
  {
   "cell_type": "code",
   "execution_count": 1,
   "id": "647c6b05",
   "metadata": {},
   "outputs": [],
   "source": [
    "import numpy as np\n",
    "import cv2"
   ]
  },
  {
   "cell_type": "code",
   "execution_count": 2,
   "id": "8956a731",
   "metadata": {},
   "outputs": [],
   "source": [
    "face_cascade = cv2.CascadeClassifier('haarcascade_frontalface_default.xml')"
   ]
  },
  {
   "cell_type": "code",
   "execution_count": 3,
   "id": "e7b2960b",
   "metadata": {},
   "outputs": [],
   "source": [
    "camera=cv2.VideoCapture(0)\n",
    "\n",
    "while True:\n",
    "    _,img=camera.read()\n",
    "    img = cv2.flip(img, 1)\n",
    "    gray=cv2.cvtColor(img,cv2.COLOR_BGR2GRAY)\n",
    "    faces=face_cascade.detectMultiScale(gray, 1.1 ,3)\n",
    "    \n",
    "    for(x,y,w,h) in faces:\n",
    "        cv2.rectangle(img,(x,y),(x+w ,y+h),(255,255,0),4)\n",
    "        roi_gray=gray[y:y+h, x:x+w]\n",
    "        roi_color=img[y:y+h, x:x+w]\n",
    "\n",
    "\n",
    "    cv2.imshow(\"img\",img)\n",
    "    if cv2.waitKey(50) & 0xFF == ord('x'):\n",
    "        break\n",
    "\n",
    "camera.release()\n",
    "cv2.destroyAllWindows()"
   ]
  },
  {
   "cell_type": "code",
   "execution_count": null,
   "id": "aca271c6",
   "metadata": {},
   "outputs": [],
   "source": []
  }
 ],
 "metadata": {
  "kernelspec": {
   "display_name": "Python 3 (ipykernel)",
   "language": "python",
   "name": "python3"
  },
  "language_info": {
   "codemirror_mode": {
    "name": "ipython",
    "version": 3
   },
   "file_extension": ".py",
   "mimetype": "text/x-python",
   "name": "python",
   "nbconvert_exporter": "python",
   "pygments_lexer": "ipython3",
   "version": "3.9.12"
  }
 },
 "nbformat": 4,
 "nbformat_minor": 5
}
